{
 "cells": [
  {
   "cell_type": "code",
   "execution_count": null,
   "metadata": {},
   "outputs": [],
   "source": [
    "from __future__ import print_function\n",
    "import os,sys\n",
    "import chart_studio.plotly as py\n",
    "import plotly.graph_objects as go\n",
    "import numpy as np\n",
    "from readparquet import UBParquetReader\n",
    "from detectoroutline import DetectorOutline"
   ]
  },
  {
   "cell_type": "code",
   "execution_count": null,
   "metadata": {},
   "outputs": [],
   "source": [
    "# load utility to draw TPC outline\n",
    "detdata = DetectorOutline()\n",
    "\n",
    "# define some colors for particle types\n",
    "ssnet_color_array = np.array( ((0,0,0),      # bg+other\n",
    "                               (255,0,0),    # electron\n",
    "                               (0,255,0),    # gamma\n",
    "                               (0,0,255),    # muon\n",
    "                               (255,0,255),  # pion\n",
    "                               (0,255,255)), # proton\n",
    "                               dtype=np.float ) "
   ]
  },
  {
   "cell_type": "code",
   "execution_count": null,
   "metadata": {},
   "outputs": [],
   "source": [
    "# DATA FILES\n",
    "datafile=\"temp.parquet\"\n",
    "\n",
    "reader = UBParquetReader(datafile)\n",
    "NENTRIES = reader.nentries"
   ]
  },
  {
   "cell_type": "code",
   "execution_count": null,
   "metadata": {},
   "outputs": [],
   "source": [
    "# Get entry data\n",
    "ENTRY = 0\n",
    "data = reader.get_entry(ENTRY)"
   ]
  },
  {
   "cell_type": "code",
   "execution_count": null,
   "metadata": {},
   "outputs": [],
   "source": [
    "# make spacepoint visualization with particle type labels\n",
    "no_ghost_points = True\n",
    "pos = data['spacepoint_t'][:,:3]\n",
    "label = data['ssnet_label']\n",
    "#print(label.shape,label.dtype)\n",
    "color = np.zeros( (pos.shape[0],3), dtype=np.float )\n",
    "for i in range(6):\n",
    "   color[ label==i ] = ssnet_color_array[i,:]\n",
    "\n",
    "if no_ghost_points:\n",
    "    pos = pos[data['matchtriplet'][:,3]==1]\n",
    "    color = color[data['matchtriplet'][:,3]==1]\n",
    "print(pos.shape)\n",
    "                 \n",
    "plot_ssnet = {\"type\":\"scatter3d\",\n",
    "              \"x\": pos[:,0],\n",
    "              \"y\": pos[:,1],\n",
    "              \"z\": pos[:,2],\n",
    "              \"mode\":\"markers\",\n",
    "              \"name\":\"particletype\",\n",
    "              \"marker\":{\"color\":color,\"size\":1,\"opacity\":0.8}}\n",
    "\n",
    "\n",
    "# PLOTLY\n",
    "detlines = detdata.getlines(color=(10,10,10))\n",
    "\n",
    "# DATA\n",
    "plotdata = [plot_ssnet] + detdata.getlines(color=(10,10,10))\n",
    "\n",
    "# LAYOUT\n",
    "axis_template = {\n",
    "    \"showbackground\": True,\n",
    "    \"backgroundcolor\": \"rgba(100, 100, 100,0.5)\",\n",
    "    \"gridcolor\": \"rgb(50, 50, 50)\",\n",
    "    \"zerolinecolor\": \"rgb(0, 0, 0)\",\n",
    "}\n",
    "\n",
    "\n",
    "layout = go.Layout(\n",
    "    title='Particle-type Labels, Spacepoints',\n",
    "    autosize=True,\n",
    "    hovermode='closest',\n",
    "    showlegend=False,\n",
    "    scene= {\n",
    "        \"xaxis\": axis_template,\n",
    "        \"yaxis\": axis_template,\n",
    "        \"zaxis\": axis_template,\n",
    "        \"aspectratio\": {\"x\": 1, \"y\": 1, \"z\": 3},\n",
    "        \"camera\": {\"eye\": {\"x\": 1, \"y\": 1, \"z\": 1},\n",
    "                   \"up\":dict(x=0, y=1, z=0)},\n",
    "        \"annotations\": [],\n",
    "    }\n",
    ")\n",
    "\n",
    "fig = go.Figure(data=plotdata, layout=layout)\n",
    "fig.show()"
   ]
  },
  {
   "cell_type": "code",
   "execution_count": null,
   "metadata": {},
   "outputs": [],
   "source": [
    "# U-PLANE\n",
    "img_u = iolcv.get_data(larcv.kProductImage2D,\"wire\").as_vector().at(0) \n",
    "plot_uplane = [ lardly.data.visualize_larcv_image2d( img_u ) ]\n",
    "\n",
    "fig = go.Figure(data=plot_uplane)\n",
    "fig.show()"
   ]
  },
  {
   "cell_type": "code",
   "execution_count": null,
   "metadata": {},
   "outputs": [],
   "source": [
    "# V-PLANE\n",
    "img_v = iolcv.get_data(larcv.kProductImage2D,\"wire\").as_vector().at(1) \n",
    "plot_vplane = [ lardly.data.visualize_larcv_image2d( img_v ) ]\n",
    "\n",
    "fig = go.Figure(data=plot_vplane)\n",
    "fig.show()"
   ]
  },
  {
   "cell_type": "code",
   "execution_count": null,
   "metadata": {},
   "outputs": [],
   "source": [
    "# Y-PLANE\n",
    "img_y = iolcv.get_data(larcv.kProductImage2D,\"wire\").as_vector().at(2) \n",
    "plot_yplane = [ lardly.data.visualize_larcv_image2d( img_y ) ]\n",
    "\n",
    "fig = go.Figure(data=plot_yplane)\n",
    "fig.show()"
   ]
  },
  {
   "cell_type": "code",
   "execution_count": null,
   "metadata": {},
   "outputs": [],
   "source": [
    "# Truth Metadata\n",
    "print \"Enu: %.2f MeV\"%(fvv.Enu_1e1p)\n",
    "print \"BDT: %.4f\"%(fvv.BDTscore_1e1p)\n",
    "print \"showerQ=(%.2f,%.2f,%.2f)\"%(fvv.shower1_sumQ_U, fvv.shower1_sumQ_V, fvv.shower1_sumQ_Y)"
   ]
  },
  {
   "cell_type": "code",
   "execution_count": null,
   "metadata": {},
   "outputs": [],
   "source": []
  }
 ],
 "metadata": {
  "kernelspec": {
   "display_name": "Python 3 (ipykernel)",
   "language": "python",
   "name": "python3"
  },
  "language_info": {
   "codemirror_mode": {
    "name": "ipython",
    "version": 3
   },
   "file_extension": ".py",
   "mimetype": "text/x-python",
   "name": "python",
   "nbconvert_exporter": "python",
   "pygments_lexer": "ipython3",
   "version": "3.9.5"
  }
 },
 "nbformat": 4,
 "nbformat_minor": 4
}
