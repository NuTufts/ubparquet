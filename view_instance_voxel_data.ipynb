{
 "cells": [
  {
   "cell_type": "code",
   "execution_count": null,
   "metadata": {},
   "outputs": [],
   "source": [
    "from __future__ import print_function\n",
    "import os,sys\n",
    "import chart_studio as cs\n",
    "import chart_studio.plotly as py\n",
    "import plotly.graph_objects as go\n",
    "import numpy as np\n",
    "from readparquet import UBParquetReader\n",
    "from detectoroutline import DetectorOutline"
   ]
  },
  {
   "cell_type": "code",
   "execution_count": null,
   "metadata": {},
   "outputs": [],
   "source": [
    "# load utility to draw TPC outline\n",
    "detdata = DetectorOutline()\n",
    "\n",
    "# define some colors for particle types\n",
    "ssnet_color_array = np.array( ((0,0,0),      # bg\n",
    "                               (255,0,0),    # electron\n",
    "                               (0,255,0),    # gamma\n",
    "                               (0,0,255),    # muon\n",
    "                               (255,0,255),  # pion\n",
    "                               (0,255,255),  # proton\n",
    "                               (0,0,0)),     # other\n",
    "                               dtype=np.float ) \n",
    "\n",
    "larcvpid2class = {0:0,#unknown -> bg\n",
    "                  1:0,#cosmic -> bg\n",
    "                  2:0,#bnb -> bg\n",
    "                  3:1,#eminus->electron\n",
    "                  4:2,#gamma->gamma\n",
    "                  5:2,#pizero->gamma\n",
    "                  6:3,#muon->muon\n",
    "                  7:4,#kaon->other\n",
    "                  8:4,#pion->pion\n",
    "                  9:5,#proton->proton\n",
    "                 }"
   ]
  },
  {
   "cell_type": "code",
   "execution_count": null,
   "metadata": {
    "scrolled": false
   },
   "outputs": [],
   "source": [
    "# DATA FILES\n",
    "\n",
    "# specify location where parquet file(s) live\n",
    "datafolder=\"./instance_data/\"\n",
    "\n",
    "reader = UBParquetReader(datafolder)\n",
    "NENTRIES = reader.nentries"
   ]
  },
  {
   "cell_type": "code",
   "execution_count": null,
   "metadata": {},
   "outputs": [],
   "source": [
    "# Get entry data\n",
    "ENTRY = 101\n",
    "data = reader.get_entry(ENTRY)\n",
    "print(\"data keys: \",data.keys())\n",
    "print(\"nvoxels: \",data[\"instvoxcoord\"].shape[0])"
   ]
  },
  {
   "cell_type": "code",
   "execution_count": null,
   "metadata": {
    "scrolled": false
   },
   "outputs": [],
   "source": [
    "# Print Entry Info\n",
    "#for col in ['run','subrun','event','truepos','nu_energy','nu_pid','nu_ccnc','nu_interaction','nu_geniemode']:\n",
    "#    print(col,\": \",data[col])\n",
    "\n",
    "# make instance 2 id map\n",
    "#instance2id = {}\n",
    "#for k,i in zip(data['voxinstancelist'],data['voxidlist']):\n",
    "#    instance2id[k.as_py()] = i.as_py()\n",
    "#for primdata in zip(data['primary_trackid'].as_py(),data['primary_pid'].as_py(),data['primary_start'].as_py(),data['primary_mom'].as_py()):\n",
    "#    trackid=primdata[0]\n",
    "#    if trackid in instance2id:\n",
    "#        print('[%d]'%(instance2id[primdata[0]]),\": \",primdata)\n",
    "    \n",
    "#print(instance2id)"
   ]
  },
  {
   "cell_type": "code",
   "execution_count": null,
   "metadata": {},
   "outputs": [],
   "source": [
    "# GENERATE PLOTLY OBJECTS FOR VISUALIZATION\n",
    "plotdata = []\n",
    "nvoxels = data[\"instvoxcoord\"].shape[0]\n",
    "# We need to retrieved the 3d positions\n",
    "pos3d = data[\"instvoxcoord\"].astype(np.float)*1.0\n",
    "pos3d[:,1] -= 117.0 \n"
   ]
  },
  {
   "cell_type": "code",
   "execution_count": null,
   "metadata": {},
   "outputs": [],
   "source": [
    "# Plot Particle\n",
    "no_ghost_points = True\n",
    "pos = pos3d\n",
    "label = data[\"label\"].as_py()\n",
    "labelcol = ssnet_color_array[label]\n",
    "\n",
    "\n",
    "instance_plot = {\n",
    "    \"type\":\"scatter3d\",\n",
    "    \"x\":pos[:,0],\n",
    "    \"y\":pos[:,1],\n",
    "    \"z\":pos[:,2],\n",
    "        \"mode\":\"markers\",\n",
    "        \"name\":\"ssnet\",\n",
    "        \"marker\":{\"color\":labelcol,\"size\":1}\n",
    "    }\n",
    "\n",
    "detlines = detdata.getlines(color=(10,10,10))\n",
    "\n",
    "# DATA\n",
    "instance_plot_data = [instance_plot] + detdata.getlines(color=(10,10,10))\n",
    "\n",
    "# LAYOUT\n",
    "axis_template = {\n",
    "    \"showbackground\": True,\n",
    "    \"backgroundcolor\": \"rgba(100, 100, 100,0.5)\",\n",
    "    \"gridcolor\": \"rgb(50, 50, 50)\",\n",
    "    \"zerolinecolor\": \"rgb(0, 0, 0)\",\n",
    "}\n",
    "\n",
    "\n",
    "layout = go.Layout(\n",
    "    title='SINGLE PARTICLE VOXELS',\n",
    "    autosize=True,\n",
    "    hovermode='closest',\n",
    "    showlegend=False,\n",
    "    scene= {\n",
    "        \"xaxis\": axis_template,\n",
    "        \"yaxis\": axis_template,\n",
    "        \"zaxis\": axis_template,\n",
    "        \"aspectratio\": {\"x\": 1, \"y\": 1, \"z\": 3},\n",
    "        \"camera\": {\"eye\": {\"x\": 4.0, \"y\": 0.5, \"z\": -0.5},\n",
    "                   \"up\":dict(x=0, y=1, z=0)},\n",
    "        \"annotations\": [],\n",
    "    }\n",
    ")\n",
    "\n",
    "fig = go.Figure(data=instance_plot_data, layout=layout)\n",
    "fig.show()"
   ]
  },
  {
   "cell_type": "code",
   "execution_count": null,
   "metadata": {},
   "outputs": [],
   "source": []
  }
 ],
 "metadata": {
  "kernelspec": {
   "display_name": "Python 3 (ipykernel)",
   "language": "python",
   "name": "python3"
  },
  "language_info": {
   "codemirror_mode": {
    "name": "ipython",
    "version": 3
   },
   "file_extension": ".py",
   "mimetype": "text/x-python",
   "name": "python",
   "nbconvert_exporter": "python",
   "pygments_lexer": "ipython3",
   "version": "3.9.5"
  }
 },
 "nbformat": 4,
 "nbformat_minor": 2
}
