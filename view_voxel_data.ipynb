{
 "cells": [
  {
   "cell_type": "code",
   "execution_count": null,
   "metadata": {},
   "outputs": [],
   "source": [
    "from __future__ import print_function\n",
    "import os,sys\n",
    "import chart_studio.plotly as py\n",
    "import plotly.graph_objects as go\n",
    "import numpy as np\n",
    "from readparquet import UBParquetReader\n",
    "from detectoroutline import DetectorOutline"
   ]
  },
  {
   "cell_type": "code",
   "execution_count": null,
   "metadata": {},
   "outputs": [],
   "source": [
    "import lardly\n",
    "detdata = lardly.DetectorOutline()"
   ]
  },
  {
   "cell_type": "code",
   "execution_count": null,
   "metadata": {},
   "outputs": [],
   "source": [
    "# load utility to draw TPC outline\n",
    "detdata = DetectorOutline()\n",
    "\n",
    "# define some colors for particle types\n",
    "ssnet_color_array = np.array( ((0,0,0),      # bg\n",
    "                               (255,0,0),    # electron\n",
    "                               (0,255,0),    # gamma\n",
    "                               (0,0,255),    # muon\n",
    "                               (255,0,255),  # pion\n",
    "                               (0,255,255),  # proton\n",
    "                               (0,0,0)),     # other\n",
    "                               dtype=np.float ) "
   ]
  },
  {
   "cell_type": "code",
   "execution_count": null,
   "metadata": {
    "scrolled": false
   },
   "outputs": [],
   "source": [
    "# DATA FILES\n",
    "datafile=\"temp.parquet\"\n",
    "\n",
    "reader = UBParquetReader(datafile)\n",
    "NENTRIES = reader.nentries"
   ]
  },
  {
   "cell_type": "code",
   "execution_count": null,
   "metadata": {},
   "outputs": [],
   "source": [
    "# Get entry data\n",
    "ENTRY = 0\n",
    "data = reader.get_entry(ENTRY)"
   ]
  },
  {
   "cell_type": "code",
   "execution_count": null,
   "metadata": {},
   "outputs": [],
   "source": [
    "# GENERATE PLOTLY OBJECTS FOR VISUALIZATION\n",
    "plotdata = []\n",
    "nvoxels = data[\"voxcoord\"].shape[0]\n",
    "# We need to retrieved the 3d positions\n",
    "pos3d = data[\"voxcoord\"].astype(np.float)*1.0\n",
    "pos3d[:,1] -= 117.0 \n"
   ]
  },
  {
   "cell_type": "code",
   "execution_count": null,
   "metadata": {},
   "outputs": [],
   "source": [
    "# Plot Particle ID (semenatic segmentation network, \"SSNet\") labels\n",
    "no_ghost_points = True\n",
    "\n",
    "ssnetlabels = data[\"voxssnet\"]\n",
    "print(\"ssnetlabels: \",ssnetlabels.shape)\n",
    "ssnetcol = np.zeros((nvoxels,3))\n",
    "for i in range(6):\n",
    "   ssnetcol[ ssnetlabels==i ] = ssnet_color_array[i,:]\n",
    "\n",
    "if no_ghost_points:\n",
    "    pos = pos3d[data['voxlabel']==1]\n",
    "    ssnetcol = ssnetcol[data['voxlabel']==1]\n",
    "    print(\"removed ghost voxels: \",pos3d.shape)\n",
    "else:\n",
    "    pos = pos3d\n",
    "\n",
    "\n",
    "ssnetplot = {\n",
    "    \"type\":\"scatter3d\",\n",
    "    \"x\":pos[:,0],\n",
    "    \"y\":pos[:,1],\n",
    "    \"z\":pos[:,2],\n",
    "        \"mode\":\"markers\",\n",
    "        \"name\":\"ssnet\",\n",
    "        \"marker\":{\"color\":ssnetcol,\"size\":1}\n",
    "    }\n",
    "\n",
    "detlines = detdata.getlines(color=(10,10,10))\n",
    "\n",
    "# DATA\n",
    "ssnet_plot_data = [ssnetplot] + detdata.getlines(color=(10,10,10))\n",
    "\n",
    "# LAYOUT\n",
    "axis_template = {\n",
    "    \"showbackground\": True,\n",
    "    \"backgroundcolor\": \"rgba(100, 100, 100,0.5)\",\n",
    "    \"gridcolor\": \"rgb(50, 50, 50)\",\n",
    "    \"zerolinecolor\": \"rgb(0, 0, 0)\",\n",
    "}\n",
    "\n",
    "\n",
    "layout = go.Layout(\n",
    "    title='SSNET LABELS',\n",
    "    autosize=True,\n",
    "    hovermode='closest',\n",
    "    showlegend=False,\n",
    "    scene= {\n",
    "        \"xaxis\": axis_template,\n",
    "        \"yaxis\": axis_template,\n",
    "        \"zaxis\": axis_template,\n",
    "        \"aspectratio\": {\"x\": 1, \"y\": 1, \"z\": 3},\n",
    "        \"camera\": {\"eye\": {\"x\": 1, \"y\": 1, \"z\": 1},\n",
    "                   \"up\":dict(x=0, y=1, z=0)},\n",
    "        \"annotations\": [],\n",
    "    }\n",
    ")\n",
    "\n",
    "fig = go.Figure(data=ssnet_plot_data, layout=layout)\n",
    "fig.show()"
   ]
  },
  {
   "cell_type": "code",
   "execution_count": null,
   "metadata": {},
   "outputs": [],
   "source": []
  }
 ],
 "metadata": {
  "kernelspec": {
   "display_name": "Python 3 (ipykernel)",
   "language": "python",
   "name": "python3"
  },
  "language_info": {
   "codemirror_mode": {
    "name": "ipython",
    "version": 3
   },
   "file_extension": ".py",
   "mimetype": "text/x-python",
   "name": "python",
   "nbconvert_exporter": "python",
   "pygments_lexer": "ipython3",
   "version": "3.9.5"
  }
 },
 "nbformat": 4,
 "nbformat_minor": 2
}
